{
  "nbformat": 4,
  "nbformat_minor": 0,
  "metadata": {
    "colab": {
      "name": "TFneuralNetwork.ipynb",
      "provenance": [],
      "collapsed_sections": [],
      "authorship_tag": "ABX9TyNNQYA7lsRE0/D4ekaa1eT7",
      "include_colab_link": true
    },
    "kernelspec": {
      "name": "python3",
      "display_name": "Python 3"
    },
    "language_info": {
      "name": "python"
    }
  },
  "cells": [
    {
      "cell_type": "markdown",
      "metadata": {
        "id": "view-in-github",
        "colab_type": "text"
      },
      "source": [
        "<a href=\"https://colab.research.google.com/github/Helyousfi/Neural-Networks/blob/main/TFneuralNetwork.ipynb\" target=\"_parent\"><img src=\"https://colab.research.google.com/assets/colab-badge.svg\" alt=\"Open In Colab\"/></a>"
      ]
    },
    {
      "cell_type": "code",
      "execution_count": 4,
      "metadata": {
        "id": "M49SSrD3WDXW"
      },
      "outputs": [],
      "source": [
        "import tensorflow as tf\n",
        "from tensorflow import keras\n",
        "\n",
        "from keras.models import Sequential\n",
        "from keras.layers import Dense, Activation\n",
        "from keras.metrics import categorical_crossentropy"
      ]
    },
    {
      "cell_type": "code",
      "source": [
        "model = Sequential(\n",
        "    [\n",
        "      Dense(4, input_shape=(1,), activation='relu'),\n",
        "      Dense(3, activation='relu'),\n",
        "      Dense(2, activation='softmax')\n",
        "    ]\n",
        ")\n",
        "model.summary()"
      ],
      "metadata": {
        "colab": {
          "base_uri": "https://localhost:8080/"
        },
        "id": "90RplIIVWmbw",
        "outputId": "e4576661-f74c-4575-907b-04370914d04c"
      },
      "execution_count": 5,
      "outputs": [
        {
          "output_type": "stream",
          "name": "stdout",
          "text": [
            "Model: \"sequential\"\n",
            "_________________________________________________________________\n",
            " Layer (type)                Output Shape              Param #   \n",
            "=================================================================\n",
            " dense (Dense)               (None, 4)                 8         \n",
            "                                                                 \n",
            " dense_1 (Dense)             (None, 3)                 15        \n",
            "                                                                 \n",
            " dense_2 (Dense)             (None, 2)                 8         \n",
            "                                                                 \n",
            "=================================================================\n",
            "Total params: 31\n",
            "Trainable params: 31\n",
            "Non-trainable params: 0\n",
            "_________________________________________________________________\n"
          ]
        }
      ]
    },
    {
      "cell_type": "code",
      "source": [
        "model2 = Sequential()\n",
        "model2.add(Dense(4, input_shape=(1,), activation='relu'))\n",
        "model2.add(Dense(3, activation='relu'))\n",
        "model2.add(Dense(2, activation='softmax'))\n",
        "\n",
        "model2.summary()"
      ],
      "metadata": {
        "colab": {
          "base_uri": "https://localhost:8080/"
        },
        "id": "HOIIhrHJYoRl",
        "outputId": "2d8fa006-ee3b-490b-8a45-aee5df3530ac"
      },
      "execution_count": 6,
      "outputs": [
        {
          "output_type": "stream",
          "name": "stdout",
          "text": [
            "Model: \"sequential_1\"\n",
            "_________________________________________________________________\n",
            " Layer (type)                Output Shape              Param #   \n",
            "=================================================================\n",
            " dense_3 (Dense)             (None, 4)                 8         \n",
            "                                                                 \n",
            " dense_4 (Dense)             (None, 3)                 15        \n",
            "                                                                 \n",
            " dense_5 (Dense)             (None, 2)                 8         \n",
            "                                                                 \n",
            "=================================================================\n",
            "Total params: 31\n",
            "Trainable params: 31\n",
            "Non-trainable params: 0\n",
            "_________________________________________________________________\n"
          ]
        }
      ]
    },
    {
      "cell_type": "markdown",
      "source": [
        "## Compile the Model so it's ready for training"
      ],
      "metadata": {
        "id": "d-dC56pCY_Bg"
      }
    },
    {
      "cell_type": "code",
      "source": [
        "opt = keras.optimizers.Adam(learning_rate=0.01)\n",
        "model.compile(\n",
        "    optimizer=opt,\n",
        "    loss='sparse_categorical_crossentropy',\n",
        "    metrics=['accuracy']\n",
        ")"
      ],
      "metadata": {
        "id": "GOc3l8yZZCjM"
      },
      "execution_count": 7,
      "outputs": []
    },
    {
      "cell_type": "markdown",
      "source": [
        "## Create Our Own Random Dataset That We Can Train Our Neural Network On\n",
        "\n",
        "- A vaccine is tested on 5250 individuals from age 10 to 90.\n",
        "- The individuals are split into two equal groups. First group is under 50 years and the second group is over 50 years.\n",
        "- 95% in group 1 had no side effects.\n",
        "- 95% in group 2 had side effects."
      ],
      "metadata": {
        "id": "1yENi1fEbkPf"
      }
    },
    {
      "cell_type": "code",
      "source": [
        "import numpy as np\n",
        "from random import randint\n",
        "from sklearn.utils import shuffle\n",
        "from sklearn.preprocessing import MinMaxScaler"
      ],
      "metadata": {
        "id": "mDeRcK_wbgrd"
      },
      "execution_count": 8,
      "outputs": []
    },
    {
      "cell_type": "code",
      "source": [
        "training_set = []\n",
        "training_labels = []\n",
        "\n",
        "for i in range(int(0.95*5250)):\n",
        "  randAgeUnder50 = randint(10,50)\n",
        "  training_set.append(randAgeUnder50)\n",
        "  training_labels.append(0)\n",
        "\n",
        "  randAgeOver50 = randint(51, 90)\n",
        "  training_set.append(randAgeOver50)\n",
        "  training_labels.append(1)\n",
        "\n",
        "for i in range(int(0.05*5250)):\n",
        "  randAgeUnder50 = randint(10,50)\n",
        "  training_set.append(randAgeUnder50)\n",
        "  training_labels.append(1)\n",
        "\n",
        "  randAgeOver50 = randint(51, 90)\n",
        "  training_set.append(randAgeOver50)\n",
        "  training_labels.append(0)\n",
        "\n",
        "(training_set, training_labels) = shuffle(training_set, training_labels)\n",
        "\n",
        "\n",
        "training_set = np.array(training_set)\n",
        "training_labels = np.array(training_labels)\n",
        "\n",
        "print(training_set)\n",
        "print(training_labels)\n",
        "\n",
        "\n",
        "model = Sequential([\n",
        "      Dense(units=1, input_shape=(1,), activation='relu'),\n",
        "      Dense(units=24, activation='relu'),\n",
        "      Dense(units=12, activation='relu'),\n",
        "      Dense(units=2, activation='softmax')\n",
        "])\n",
        "\n",
        "opt = keras.optimizers.Adam(learning_rate=0.01)\n",
        "model.compile(\n",
        "    optimizer=opt,\n",
        "    loss='sparse_categorical_crossentropy',\n",
        "    metrics=['accuracy']\n",
        ")\n"
      ],
      "metadata": {
        "colab": {
          "base_uri": "https://localhost:8080/"
        },
        "id": "7JFVdA1fb8ao",
        "outputId": "2a1af9cb-638b-45b1-852e-12843cdf1517"
      },
      "execution_count": 23,
      "outputs": [
        {
          "output_type": "stream",
          "name": "stdout",
          "text": [
            "[33 67 43 ... 70 12 58]\n",
            "[0 1 0 ... 1 0 1]\n"
          ]
        }
      ]
    },
    {
      "cell_type": "markdown",
      "source": [
        "## Train the model"
      ],
      "metadata": {
        "id": "VKsvU7esflXm"
      }
    },
    {
      "cell_type": "code",
      "source": [
        "model.fit(x=training_set, y=training_labels, validation_split=0.1, batch_size=10, epochs=30, shuffle=True, verbose=2)"
      ],
      "metadata": {
        "colab": {
          "base_uri": "https://localhost:8080/"
        },
        "id": "Lm-DPYDHf_yQ",
        "outputId": "04b811a2-dc8e-4d34-f217-2eb8121a9e42"
      },
      "execution_count": 24,
      "outputs": [
        {
          "output_type": "stream",
          "name": "stdout",
          "text": [
            "Epoch 1/30\n",
            "945/945 - 3s - loss: 0.6937 - accuracy: 0.4974 - val_loss: 0.6942 - val_accuracy: 0.5086 - 3s/epoch - 3ms/step\n",
            "Epoch 2/30\n",
            "945/945 - 1s - loss: 0.6937 - accuracy: 0.5079 - val_loss: 0.6956 - val_accuracy: 0.5086 - 1s/epoch - 1ms/step\n",
            "Epoch 3/30\n",
            "945/945 - 1s - loss: 0.6938 - accuracy: 0.5005 - val_loss: 0.6955 - val_accuracy: 0.5086 - 1s/epoch - 1ms/step\n",
            "Epoch 4/30\n",
            "945/945 - 1s - loss: 0.6942 - accuracy: 0.4931 - val_loss: 0.6932 - val_accuracy: 0.4914 - 1s/epoch - 1ms/step\n",
            "Epoch 5/30\n",
            "945/945 - 1s - loss: 0.6941 - accuracy: 0.4925 - val_loss: 0.6930 - val_accuracy: 0.5086 - 1s/epoch - 1ms/step\n",
            "Epoch 6/30\n",
            "945/945 - 1s - loss: 0.6942 - accuracy: 0.4897 - val_loss: 0.6933 - val_accuracy: 0.4914 - 1s/epoch - 1ms/step\n",
            "Epoch 7/30\n",
            "945/945 - 1s - loss: 0.6937 - accuracy: 0.5024 - val_loss: 0.6937 - val_accuracy: 0.5086 - 1s/epoch - 1ms/step\n",
            "Epoch 8/30\n",
            "945/945 - 1s - loss: 0.6942 - accuracy: 0.5010 - val_loss: 0.6955 - val_accuracy: 0.4914 - 1s/epoch - 1ms/step\n",
            "Epoch 9/30\n",
            "945/945 - 1s - loss: 0.6935 - accuracy: 0.5048 - val_loss: 0.6982 - val_accuracy: 0.4914 - 1s/epoch - 1ms/step\n",
            "Epoch 10/30\n",
            "945/945 - 1s - loss: 0.6940 - accuracy: 0.4938 - val_loss: 0.6944 - val_accuracy: 0.4914 - 1s/epoch - 1ms/step\n",
            "Epoch 11/30\n",
            "945/945 - 1s - loss: 0.6941 - accuracy: 0.5058 - val_loss: 0.6930 - val_accuracy: 0.5086 - 1s/epoch - 1ms/step\n",
            "Epoch 12/30\n",
            "945/945 - 1s - loss: 0.6938 - accuracy: 0.5020 - val_loss: 0.6944 - val_accuracy: 0.5086 - 1s/epoch - 1ms/step\n",
            "Epoch 13/30\n",
            "945/945 - 1s - loss: 0.6945 - accuracy: 0.4946 - val_loss: 0.6932 - val_accuracy: 0.5086 - 1s/epoch - 1ms/step\n",
            "Epoch 14/30\n",
            "945/945 - 1s - loss: 0.6937 - accuracy: 0.5037 - val_loss: 0.6932 - val_accuracy: 0.5086 - 1s/epoch - 1ms/step\n",
            "Epoch 15/30\n",
            "945/945 - 1s - loss: 0.6940 - accuracy: 0.5005 - val_loss: 0.6930 - val_accuracy: 0.5086 - 1s/epoch - 1ms/step\n",
            "Epoch 16/30\n",
            "945/945 - 1s - loss: 0.6941 - accuracy: 0.4971 - val_loss: 0.6938 - val_accuracy: 0.5086 - 1s/epoch - 1ms/step\n",
            "Epoch 17/30\n",
            "945/945 - 1s - loss: 0.6942 - accuracy: 0.4971 - val_loss: 0.6931 - val_accuracy: 0.5086 - 1s/epoch - 1ms/step\n",
            "Epoch 18/30\n",
            "945/945 - 1s - loss: 0.6940 - accuracy: 0.4965 - val_loss: 0.6959 - val_accuracy: 0.4914 - 1s/epoch - 1ms/step\n",
            "Epoch 19/30\n",
            "945/945 - 1s - loss: 0.6942 - accuracy: 0.4878 - val_loss: 0.6932 - val_accuracy: 0.5086 - 1s/epoch - 1ms/step\n",
            "Epoch 20/30\n",
            "945/945 - 1s - loss: 0.6941 - accuracy: 0.5012 - val_loss: 0.6931 - val_accuracy: 0.5086 - 1s/epoch - 1ms/step\n",
            "Epoch 21/30\n",
            "945/945 - 1s - loss: 0.6940 - accuracy: 0.4944 - val_loss: 0.6931 - val_accuracy: 0.5086 - 1s/epoch - 1ms/step\n",
            "Epoch 22/30\n",
            "945/945 - 1s - loss: 0.6940 - accuracy: 0.4995 - val_loss: 0.6932 - val_accuracy: 0.4914 - 1s/epoch - 1ms/step\n",
            "Epoch 23/30\n",
            "945/945 - 1s - loss: 0.6938 - accuracy: 0.5037 - val_loss: 0.6930 - val_accuracy: 0.5086 - 1s/epoch - 1ms/step\n",
            "Epoch 24/30\n",
            "945/945 - 1s - loss: 0.6942 - accuracy: 0.4925 - val_loss: 0.6942 - val_accuracy: 0.4914 - 1s/epoch - 1ms/step\n",
            "Epoch 25/30\n",
            "945/945 - 1s - loss: 0.6940 - accuracy: 0.5012 - val_loss: 0.6934 - val_accuracy: 0.5086 - 1s/epoch - 1ms/step\n",
            "Epoch 26/30\n",
            "945/945 - 1s - loss: 0.6941 - accuracy: 0.4923 - val_loss: 0.6947 - val_accuracy: 0.4914 - 1s/epoch - 1ms/step\n",
            "Epoch 27/30\n",
            "945/945 - 1s - loss: 0.6939 - accuracy: 0.5016 - val_loss: 0.6930 - val_accuracy: 0.5086 - 1s/epoch - 1ms/step\n",
            "Epoch 28/30\n",
            "945/945 - 1s - loss: 0.6942 - accuracy: 0.4969 - val_loss: 0.6951 - val_accuracy: 0.4914 - 1s/epoch - 1ms/step\n",
            "Epoch 29/30\n",
            "945/945 - 1s - loss: 0.6939 - accuracy: 0.5022 - val_loss: 0.6935 - val_accuracy: 0.4914 - 1s/epoch - 1ms/step\n",
            "Epoch 30/30\n",
            "945/945 - 1s - loss: 0.6937 - accuracy: 0.4986 - val_loss: 0.6949 - val_accuracy: 0.4914 - 1s/epoch - 2ms/step\n"
          ]
        },
        {
          "output_type": "execute_result",
          "data": {
            "text/plain": [
              "<keras.callbacks.History at 0x7fee3bb95090>"
            ]
          },
          "metadata": {},
          "execution_count": 24
        }
      ]
    },
    {
      "cell_type": "code",
      "source": [
        ""
      ],
      "metadata": {
        "id": "s1-X1N02gAq7"
      },
      "execution_count": null,
      "outputs": []
    }
  ]
}