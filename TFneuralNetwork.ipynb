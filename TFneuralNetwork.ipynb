{
  "nbformat": 4,
  "nbformat_minor": 0,
  "metadata": {
    "colab": {
      "name": "TFneuralNetwork.ipynb",
      "provenance": [],
      "collapsed_sections": [],
      "authorship_tag": "ABX9TyNXWKy/Pdn0UhP/v+xymige",
      "include_colab_link": true
    },
    "kernelspec": {
      "name": "python3",
      "display_name": "Python 3"
    },
    "language_info": {
      "name": "python"
    }
  },
  "cells": [
    {
      "cell_type": "markdown",
      "metadata": {
        "id": "view-in-github",
        "colab_type": "text"
      },
      "source": [
        "<a href=\"https://colab.research.google.com/github/Helyousfi/Neural-Networks/blob/main/TFneuralNetwork.ipynb\" target=\"_parent\"><img src=\"https://colab.research.google.com/assets/colab-badge.svg\" alt=\"Open In Colab\"/></a>"
      ]
    },
    {
      "cell_type": "code",
      "execution_count": 3,
      "metadata": {
        "id": "M49SSrD3WDXW"
      },
      "outputs": [],
      "source": [
        "import tensorflow as tf\n",
        "from tensorflow import keras\n",
        "\n",
        "from keras.models import Sequential\n",
        "from keras.layers import Dense, Activation\n",
        "from keras.metrics import categorical_crossentropy"
      ]
    },
    {
      "cell_type": "markdown",
      "source": [
        "## This is How to create a model :"
      ],
      "metadata": {
        "id": "zotXyn2WIyS-"
      }
    },
    {
      "cell_type": "code",
      "source": [
        "model = Sequential(\n",
        "    [\n",
        "      Dense(4, input_shape=(1,), activation='relu'),\n",
        "      Dense(3, activation='relu'),\n",
        "      Dense(2, activation='softmax')\n",
        "    ]\n",
        ")\n",
        "model.summary()"
      ],
      "metadata": {
        "colab": {
          "base_uri": "https://localhost:8080/"
        },
        "id": "90RplIIVWmbw",
        "outputId": "100ffe20-b9e5-4764-8abe-8b499d0c9f3d"
      },
      "execution_count": 4,
      "outputs": [
        {
          "output_type": "stream",
          "name": "stdout",
          "text": [
            "Model: \"sequential\"\n",
            "_________________________________________________________________\n",
            " Layer (type)                Output Shape              Param #   \n",
            "=================================================================\n",
            " dense (Dense)               (None, 4)                 8         \n",
            "                                                                 \n",
            " dense_1 (Dense)             (None, 3)                 15        \n",
            "                                                                 \n",
            " dense_2 (Dense)             (None, 2)                 8         \n",
            "                                                                 \n",
            "=================================================================\n",
            "Total params: 31\n",
            "Trainable params: 31\n",
            "Non-trainable params: 0\n",
            "_________________________________________________________________\n"
          ]
        }
      ]
    },
    {
      "cell_type": "code",
      "source": [
        "model2 = Sequential()\n",
        "model2.add(Dense(4, input_shape=(1,), activation='relu'))\n",
        "model2.add(Dense(3, activation='relu'))\n",
        "model2.add(Dense(2, activation='softmax'))\n",
        "\n",
        "model2.summary()"
      ],
      "metadata": {
        "colab": {
          "base_uri": "https://localhost:8080/"
        },
        "id": "HOIIhrHJYoRl",
        "outputId": "01b8d892-a878-4dc3-bf35-69bf3a1e68ee"
      },
      "execution_count": 5,
      "outputs": [
        {
          "output_type": "stream",
          "name": "stdout",
          "text": [
            "Model: \"sequential_1\"\n",
            "_________________________________________________________________\n",
            " Layer (type)                Output Shape              Param #   \n",
            "=================================================================\n",
            " dense_3 (Dense)             (None, 4)                 8         \n",
            "                                                                 \n",
            " dense_4 (Dense)             (None, 3)                 15        \n",
            "                                                                 \n",
            " dense_5 (Dense)             (None, 2)                 8         \n",
            "                                                                 \n",
            "=================================================================\n",
            "Total params: 31\n",
            "Trainable params: 31\n",
            "Non-trainable params: 0\n",
            "_________________________________________________________________\n"
          ]
        }
      ]
    },
    {
      "cell_type": "markdown",
      "source": [
        "## Compile the Model so it's ready for training"
      ],
      "metadata": {
        "id": "d-dC56pCY_Bg"
      }
    },
    {
      "cell_type": "code",
      "source": [
        "opt = keras.optimizers.Adam(learning_rate=0.01)\n",
        "model.compile(\n",
        "    optimizer=opt,\n",
        "    loss='sparse_categorical_crossentropy',\n",
        "    metrics=['accuracy']\n",
        ")"
      ],
      "metadata": {
        "id": "GOc3l8yZZCjM"
      },
      "execution_count": 6,
      "outputs": []
    },
    {
      "cell_type": "markdown",
      "source": [
        "## Create Our Own Random Dataset That We Can Train Our Neural Network On\n",
        "\n",
        "- A vaccine is tested on 5250 individuals from age 10 to 90.\n",
        "- The individuals are split into two equal groups. First group is under 50 years and the second group is over 50 years.\n",
        "- 95% in group 1 had no side effects.\n",
        "- 95% in group 2 had side effects."
      ],
      "metadata": {
        "id": "1yENi1fEbkPf"
      }
    },
    {
      "cell_type": "code",
      "source": [
        "import numpy as np\n",
        "from random import randint\n",
        "from sklearn.utils import shuffle\n",
        "from sklearn.preprocessing import MinMaxScaler"
      ],
      "metadata": {
        "id": "mDeRcK_wbgrd"
      },
      "execution_count": 7,
      "outputs": []
    },
    {
      "cell_type": "code",
      "source": [
        "training_set = []\n",
        "training_labels = []\n",
        "\n",
        "for i in range(int(0.95*5250)):\n",
        "  randAgeUnder50 = randint(10,50)\n",
        "  training_set.append(randAgeUnder50)\n",
        "  training_labels.append(0)\n",
        "\n",
        "  randAgeOver50 = randint(51, 90)\n",
        "  training_set.append(randAgeOver50)\n",
        "  training_labels.append(1)\n",
        "\n",
        "for i in range(int(0.05*5250)):\n",
        "  randAgeUnder50 = randint(10,50)\n",
        "  training_set.append(randAgeUnder50)\n",
        "  training_labels.append(1)\n",
        "\n",
        "  randAgeOver50 = randint(51, 90)\n",
        "  training_set.append(randAgeOver50)\n",
        "  training_labels.append(0)\n",
        "\n",
        "(training_set, training_labels) = shuffle(training_set, training_labels)"
      ],
      "metadata": {
        "id": "7JFVdA1fb8ao"
      },
      "execution_count": 8,
      "outputs": []
    },
    {
      "cell_type": "code",
      "source": [
        "training_set = np.array(training_set)\n",
        "training_labels = np.array(training_labels)\n",
        "\n",
        "print(training_set)\n",
        "print(training_labels)"
      ],
      "metadata": {
        "colab": {
          "base_uri": "https://localhost:8080/"
        },
        "id": "gWCxA8rHI5NF",
        "outputId": "b2e4d2d8-1e54-4abf-bcdb-cdcde1f55e9c"
      },
      "execution_count": 10,
      "outputs": [
        {
          "output_type": "stream",
          "name": "stdout",
          "text": [
            "[42 50 89 ... 75 22 49]\n",
            "[0 0 1 ... 1 1 0]\n"
          ]
        }
      ]
    },
    {
      "cell_type": "markdown",
      "source": [
        "## Create the model and compile it :"
      ],
      "metadata": {
        "id": "xIj3zEu1JDM9"
      }
    },
    {
      "cell_type": "code",
      "source": [
        "model = Sequential([\n",
        "      Dense(units=1, input_shape=(1,), activation='relu'),\n",
        "      Dense(units=24, activation='relu'),\n",
        "      Dense(units=12, activation='relu'),\n",
        "      Dense(units=2, activation='softmax')\n",
        "])\n",
        "\n",
        "opt = keras.optimizers.Adam(learning_rate=0.01)\n",
        "model.compile(\n",
        "    optimizer=opt,\n",
        "    loss='sparse_categorical_crossentropy',\n",
        "    metrics=['accuracy']\n",
        ")"
      ],
      "metadata": {
        "id": "sGbXxX1lJGGr"
      },
      "execution_count": 11,
      "outputs": []
    },
    {
      "cell_type": "markdown",
      "source": [
        "## Train the model"
      ],
      "metadata": {
        "id": "VKsvU7esflXm"
      }
    },
    {
      "cell_type": "code",
      "source": [
        "model.fit(x=training_set, y=training_labels, validation_split=0.1, batch_size=10, epochs=30, shuffle=True, verbose=2)"
      ],
      "metadata": {
        "colab": {
          "base_uri": "https://localhost:8080/"
        },
        "id": "Lm-DPYDHf_yQ",
        "outputId": "48cae4cb-92bc-48cb-cb30-ada78544c8ae"
      },
      "execution_count": 12,
      "outputs": [
        {
          "output_type": "stream",
          "name": "stdout",
          "text": [
            "Epoch 1/30\n",
            "945/945 - 3s - loss: 0.3180 - accuracy: 0.8948 - val_loss: 0.2618 - val_accuracy: 0.9486 - 3s/epoch - 4ms/step\n",
            "Epoch 2/30\n",
            "945/945 - 1s - loss: 0.2758 - accuracy: 0.9179 - val_loss: 0.2495 - val_accuracy: 0.9314 - 1s/epoch - 1ms/step\n",
            "Epoch 3/30\n",
            "945/945 - 1s - loss: 0.2620 - accuracy: 0.9208 - val_loss: 0.2509 - val_accuracy: 0.9114 - 1s/epoch - 1ms/step\n",
            "Epoch 4/30\n",
            "945/945 - 1s - loss: 0.2590 - accuracy: 0.9211 - val_loss: 0.2387 - val_accuracy: 0.9286 - 1s/epoch - 1ms/step\n",
            "Epoch 5/30\n",
            "945/945 - 1s - loss: 0.2494 - accuracy: 0.9218 - val_loss: 0.2260 - val_accuracy: 0.9390 - 1s/epoch - 1ms/step\n",
            "Epoch 6/30\n",
            "945/945 - 1s - loss: 0.2484 - accuracy: 0.9247 - val_loss: 0.2624 - val_accuracy: 0.9057 - 1s/epoch - 1ms/step\n",
            "Epoch 7/30\n",
            "945/945 - 1s - loss: 0.2482 - accuracy: 0.9232 - val_loss: 0.2204 - val_accuracy: 0.9400 - 1s/epoch - 1ms/step\n",
            "Epoch 8/30\n",
            "945/945 - 1s - loss: 0.2502 - accuracy: 0.9222 - val_loss: 0.2715 - val_accuracy: 0.8971 - 1s/epoch - 1ms/step\n",
            "Epoch 9/30\n",
            "945/945 - 1s - loss: 0.2416 - accuracy: 0.9279 - val_loss: 0.2606 - val_accuracy: 0.9000 - 1s/epoch - 1ms/step\n",
            "Epoch 10/30\n",
            "945/945 - 1s - loss: 0.2410 - accuracy: 0.9286 - val_loss: 0.2256 - val_accuracy: 0.9400 - 1s/epoch - 1ms/step\n",
            "Epoch 11/30\n",
            "945/945 - 1s - loss: 0.2436 - accuracy: 0.9236 - val_loss: 0.2378 - val_accuracy: 0.9114 - 1s/epoch - 1ms/step\n",
            "Epoch 12/30\n",
            "945/945 - 1s - loss: 0.2411 - accuracy: 0.9270 - val_loss: 0.2206 - val_accuracy: 0.9390 - 1s/epoch - 1ms/step\n",
            "Epoch 13/30\n",
            "945/945 - 1s - loss: 0.2386 - accuracy: 0.9297 - val_loss: 0.2143 - val_accuracy: 0.9486 - 1s/epoch - 1ms/step\n",
            "Epoch 14/30\n",
            "945/945 - 1s - loss: 0.2321 - accuracy: 0.9326 - val_loss: 0.2146 - val_accuracy: 0.9486 - 1s/epoch - 1ms/step\n",
            "Epoch 15/30\n",
            "945/945 - 1s - loss: 0.2299 - accuracy: 0.9335 - val_loss: 0.2389 - val_accuracy: 0.9286 - 1s/epoch - 1ms/step\n",
            "Epoch 16/30\n",
            "945/945 - 1s - loss: 0.2369 - accuracy: 0.9296 - val_loss: 0.2246 - val_accuracy: 0.9314 - 1s/epoch - 1ms/step\n",
            "Epoch 17/30\n",
            "945/945 - 1s - loss: 0.2281 - accuracy: 0.9325 - val_loss: 0.2280 - val_accuracy: 0.9286 - 1s/epoch - 1ms/step\n",
            "Epoch 18/30\n",
            "945/945 - 1s - loss: 0.2291 - accuracy: 0.9332 - val_loss: 0.2333 - val_accuracy: 0.9286 - 1s/epoch - 1ms/step\n",
            "Epoch 19/30\n",
            "945/945 - 1s - loss: 0.2301 - accuracy: 0.9333 - val_loss: 0.2157 - val_accuracy: 0.9400 - 1s/epoch - 1ms/step\n",
            "Epoch 20/30\n",
            "945/945 - 1s - loss: 0.2313 - accuracy: 0.9327 - val_loss: 0.2919 - val_accuracy: 0.8971 - 1s/epoch - 1ms/step\n",
            "Epoch 21/30\n",
            "945/945 - 1s - loss: 0.2386 - accuracy: 0.9294 - val_loss: 0.2157 - val_accuracy: 0.9486 - 1s/epoch - 1ms/step\n",
            "Epoch 22/30\n",
            "945/945 - 1s - loss: 0.2299 - accuracy: 0.9326 - val_loss: 0.2165 - val_accuracy: 0.9390 - 1s/epoch - 1ms/step\n",
            "Epoch 23/30\n",
            "945/945 - 1s - loss: 0.2282 - accuracy: 0.9345 - val_loss: 0.2162 - val_accuracy: 0.9390 - 1s/epoch - 1ms/step\n",
            "Epoch 24/30\n",
            "945/945 - 1s - loss: 0.2284 - accuracy: 0.9325 - val_loss: 0.2122 - val_accuracy: 0.9486 - 1s/epoch - 1ms/step\n",
            "Epoch 25/30\n",
            "945/945 - 1s - loss: 0.2272 - accuracy: 0.9359 - val_loss: 0.2137 - val_accuracy: 0.9400 - 1s/epoch - 1ms/step\n",
            "Epoch 26/30\n",
            "945/945 - 1s - loss: 0.2265 - accuracy: 0.9343 - val_loss: 0.2130 - val_accuracy: 0.9486 - 1s/epoch - 1ms/step\n",
            "Epoch 27/30\n",
            "945/945 - 1s - loss: 0.2393 - accuracy: 0.9296 - val_loss: 0.2167 - val_accuracy: 0.9400 - 1s/epoch - 1ms/step\n",
            "Epoch 28/30\n",
            "945/945 - 1s - loss: 0.2229 - accuracy: 0.9376 - val_loss: 0.2239 - val_accuracy: 0.9400 - 1s/epoch - 1ms/step\n",
            "Epoch 29/30\n",
            "945/945 - 1s - loss: 0.2265 - accuracy: 0.9349 - val_loss: 0.2133 - val_accuracy: 0.9400 - 1s/epoch - 1ms/step\n",
            "Epoch 30/30\n",
            "945/945 - 1s - loss: 0.2274 - accuracy: 0.9350 - val_loss: 0.2158 - val_accuracy: 0.9390 - 1s/epoch - 1ms/step\n"
          ]
        },
        {
          "output_type": "execute_result",
          "data": {
            "text/plain": [
              "<keras.callbacks.History at 0x7f83085f08d0>"
            ]
          },
          "metadata": {},
          "execution_count": 12
        }
      ]
    },
    {
      "cell_type": "code",
      "source": [
        "test = np.array([10, 45, 55, 90, 12, 28, 36, 67, 87])\n",
        "test_labels = np.array([0, 0, 1, 1, 0, 0, 0, 1, 1])\n",
        "predictions = model.predict(test)\n",
        "rounded_predictions = np.argmax(predictions, axis=-1)"
      ],
      "metadata": {
        "id": "s1-X1N02gAq7"
      },
      "execution_count": 24,
      "outputs": []
    },
    {
      "cell_type": "markdown",
      "source": [
        "## Visualize The Prediction Results From The Neural Network On Test Data"
      ],
      "metadata": {
        "id": "BCRLvVoIJag-"
      }
    },
    {
      "cell_type": "code",
      "source": [
        "from sklearn.metrics import confusion_matrix\n",
        "import itertools\n",
        "import matplotlib.pyplot as plt"
      ],
      "metadata": {
        "id": "36t5AteMJZGo"
      },
      "execution_count": 14,
      "outputs": []
    },
    {
      "cell_type": "code",
      "source": [
        "def plot_confusion_matrix(cm, classes, normalize=False, title=\"Confusion matrix\", cmap=plt.cm.Blues):\n",
        "  plt.imshow(cm, interpolation='nearest', cmap=cmap)\n",
        "  plt.title(title)\n",
        "  plt.colorbar()\n",
        "  tick_marks = np.arange(len(classes))\n",
        "  plt.xticks(tick_marks, classes, rotation=45)\n",
        "  plt.yticks(tick_marks, classes)\n",
        "\n",
        "  if normalize:\n",
        "    cm = cm.astype('float') / cm.sum(axis=1)[:, np.newaxis]\n",
        "    print(\"Normalized Confusion Matrix\")\n",
        "  else:\n",
        "    print(\"Confusion Matrix without Normalization\")\n",
        "\n",
        "  print(cm)\n",
        "\n",
        "  thresh = cm.max() / 2.0\n",
        "\n",
        "  for i, j in itertools.product(range(cm.shape[0]), range(cm.shape[1])):\n",
        "    plt.text(j, i, cm[i,j], horizontalalignment=\"center\", color=\"white\" if cm[i,j] > thresh else \"black\")\n",
        "\n",
        "  plt.tight_layout()\n",
        "  plt.xlabel('Predicted label')\n",
        "  plt.ylabel('True label')"
      ],
      "metadata": {
        "id": "txAspq2NJdF5"
      },
      "execution_count": 15,
      "outputs": []
    },
    {
      "cell_type": "code",
      "source": [
        "cm = confusion_matrix(y_true=test_labels, y_pred=rounded_predictions)\n",
        "\n",
        "cm_plot_labels = ['no side effects', 'had side effects']\n",
        "plot_confusion_matrix(cm=cm, classes=cm_plot_labels)"
      ],
      "metadata": {
        "colab": {
          "base_uri": "https://localhost:8080/",
          "height": 363
        },
        "id": "Vgc3eE_yJjmw",
        "outputId": "108628ba-e9c9-47f4-8624-a266a6bae067"
      },
      "execution_count": 25,
      "outputs": [
        {
          "output_type": "stream",
          "name": "stdout",
          "text": [
            "Confusion Matrix without Normalization\n",
            "[[5 0]\n",
            " [0 4]]\n"
          ]
        },
        {
          "output_type": "display_data",
          "data": {
            "image/png": "[encoded data removed]",
            "text/plain": [
              "<Figure size 432x288 with 2 Axes>"
            ]
          },
          "metadata": {
            "needs_background": "light"
          }
        }
      ]
    },
    {
      "cell_type": "markdown",
      "source": [
        "## How To Save A Neural Networks Architecture and Weights When It's Done Training"
      ],
      "metadata": {
        "id": "Lfs0TnPnL907"
      }
    },
    {
      "cell_type": "code",
      "source": [
        "import os.path\n",
        "if os.path.isfile('vaccine_trial_model.h5') is False:\n",
        "  model.save('vaccine_trial_model.h5')\n",
        "  print(\"Model Saved!\")"
      ],
      "metadata": {
        "colab": {
          "base_uri": "https://localhost:8080/"
        },
        "id": "ZC4sHyI3KT2n",
        "outputId": "59fa0f30-7c67-48f1-ae41-8d74e2fcdefa"
      },
      "execution_count": 26,
      "outputs": [
        {
          "output_type": "stream",
          "name": "stdout",
          "text": [
            "Model Saved!\n"
          ]
        }
      ]
    },
    {
      "cell_type": "code",
      "source": [
        "from tensorflow.keras.models import load_model\n",
        "new_model = load_model('vaccine_trial_model.h5')"
      ],
      "metadata": {
        "id": "0ejR7tkSMDFm"
      },
      "execution_count": 27,
      "outputs": []
    },
    {
      "cell_type": "code",
      "source": [
        "new_model.summary()"
      ],
      "metadata": {
        "colab": {
          "base_uri": "https://localhost:8080/"
        },
        "id": "HzkZtLKLMKWM",
        "outputId": "fa5e3c07-2d28-4d01-d92e-e960d8e40f64"
      },
      "execution_count": 28,
      "outputs": [
        {
          "output_type": "stream",
          "name": "stdout",
          "text": [
            "Model: \"sequential_2\"\n",
            "_________________________________________________________________\n",
            " Layer (type)                Output Shape              Param #   \n",
            "=================================================================\n",
            " dense_6 (Dense)             (None, 1)                 2         \n",
            "                                                                 \n",
            " dense_7 (Dense)             (None, 24)                48        \n",
            "                                                                 \n",
            " dense_8 (Dense)             (None, 12)                300       \n",
            "                                                                 \n",
            " dense_9 (Dense)             (None, 2)                 26        \n",
            "                                                                 \n",
            "=================================================================\n",
            "Total params: 376\n",
            "Trainable params: 376\n",
            "Non-trainable params: 0\n",
            "_________________________________________________________________\n"
          ]
        }
      ]
    },
    {
      "cell_type": "code",
      "source": [
        "new_model.get_weights()"
      ],
      "metadata": {
        "colab": {
          "base_uri": "https://localhost:8080/"
        },
        "id": "Vbv-xeLhMLtl",
        "outputId": "57b43917-278b-48fe-e413-8fa4a3d0899b"
      },
      "execution_count": 30,
      "outputs": [
        {
          "output_type": "execute_result",
          "data": {
            "text/plain": [
              "[array([[0.33936763]], dtype=float32),\n",
              " array([-7.6018977], dtype=float32),\n",
              " array([[ 0.09157257, -0.28969055,  0.09055851, -0.30291414, -0.19957851,\n",
              "         -0.3349602 , -0.18817453,  0.14550884, -0.04606202, -0.29456547,\n",
              "          0.06859418,  0.48644394, -0.43052262, -0.09139524, -0.05509433,\n",
              "         -0.10267084, -0.4407539 , -0.15075791, -0.3072281 , -0.4146091 ,\n",
              "          0.2592575 , -0.21842456, -0.06545714,  0.50452316]],\n",
              "       dtype=float32),\n",
              " array([-1.4239715e+00,  0.0000000e+00, -1.6952542e+00,  0.0000000e+00,\n",
              "        -1.6322057e-03,  0.0000000e+00, -1.6014339e-02, -1.9795085e+00,\n",
              "         0.0000000e+00,  0.0000000e+00, -1.6406070e+00, -4.2243156e+00,\n",
              "         0.0000000e+00, -2.2537760e-02,  0.0000000e+00, -2.3478533e-04,\n",
              "         0.0000000e+00,  0.0000000e+00,  0.0000000e+00,  0.0000000e+00,\n",
              "        -3.0379670e+00, -1.7301674e-03,  0.0000000e+00, -4.4097872e+00],\n",
              "       dtype=float32),\n",
              " array([[-1.01712608e+00,  1.67196110e-01, -4.23338234e-01,\n",
              "         -3.05102974e-01, -3.45156610e-01, -1.34957703e-02,\n",
              "         -1.80551976e-01,  1.97328731e-01, -6.70110464e-01,\n",
              "         -6.78539813e-01, -7.14267313e-01, -6.36185706e-01],\n",
              "        [-1.27416700e-01,  3.92716646e-01,  2.06135809e-02,\n",
              "         -6.57662451e-02,  2.96744466e-01,  9.65480208e-02,\n",
              "         -7.18249977e-02, -1.45363510e-02, -3.27279568e-02,\n",
              "         -7.78898597e-02,  2.22862899e-01, -1.68804184e-01],\n",
              "        [-3.11591834e-01, -1.52360797e-01, -1.51342839e-01,\n",
              "         -1.24531917e-01, -2.68758964e-02, -3.03144574e-01,\n",
              "         -3.68780673e-01, -2.16642488e-02, -6.32417917e-01,\n",
              "          8.74464363e-02, -5.61774552e-01, -2.95599341e-01],\n",
              "        [ 2.27794826e-01, -3.91384214e-01,  1.03777885e-01,\n",
              "          1.66801631e-01, -9.20094252e-02,  2.24122465e-01,\n",
              "          6.02224767e-02,  1.30307674e-02,  2.75242925e-02,\n",
              "          4.67547774e-02,  7.19271004e-02, -2.67763644e-01],\n",
              "        [ 6.14719503e-02,  1.68574661e-01, -4.35021430e-01,\n",
              "         -6.27698898e-01, -1.39001817e-01,  1.47560745e-01,\n",
              "         -6.75368547e-01, -3.32140654e-01, -1.30781963e-01,\n",
              "         -3.52670550e-01, -2.90367961e-01,  1.65180400e-01],\n",
              "        [-1.23529434e-02, -3.41250509e-01,  1.45228326e-01,\n",
              "         -3.52616966e-01,  2.07719207e-03, -5.17904758e-03,\n",
              "         -2.01704338e-01,  2.90634036e-01,  1.70597851e-01,\n",
              "          5.68081141e-02, -1.91947192e-01, -1.33516908e-01],\n",
              "        [ 1.05107859e-01,  1.48069607e-02, -3.55392784e-01,\n",
              "         -2.68660277e-01,  1.28658161e-01, -2.08609238e-01,\n",
              "          3.74909282e-01,  4.67442274e-02, -3.67408425e-01,\n",
              "         -3.09018463e-01, -1.83241218e-01, -5.20918518e-02],\n",
              "        [-5.11472762e-01,  3.57801437e-01, -2.57736474e-01,\n",
              "         -2.29495525e-01, -5.71854770e-01,  1.71810254e-01,\n",
              "         -8.86355154e-03,  5.01968488e-02, -2.52779186e-01,\n",
              "         -3.99232060e-01, -4.59464848e-01, -5.14995992e-01],\n",
              "        [-4.29015160e-02, -2.87313461e-02,  1.22949481e-01,\n",
              "          4.02740479e-01,  1.43458784e-01,  3.73467684e-01,\n",
              "          1.93111598e-02, -3.86116028e-01, -2.80245543e-01,\n",
              "          4.19043303e-02, -8.67117345e-02,  3.15535724e-01],\n",
              "        [-3.74773592e-01,  3.66847396e-01, -1.30401731e-01,\n",
              "         -2.35718086e-01, -6.19921982e-02, -6.46900237e-02,\n",
              "         -1.69135511e-01,  9.99893546e-02, -1.82228684e-02,\n",
              "         -2.63447285e-01,  1.17268741e-01, -3.47654998e-01],\n",
              "        [-1.79444835e-01, -1.30262405e-01, -1.81197282e-02,\n",
              "         -1.60639346e-01, -2.12220863e-01, -1.23163082e-01,\n",
              "         -2.54385322e-01, -1.93349048e-01,  2.56377071e-01,\n",
              "          1.67952962e-02,  4.36962217e-01,  9.94468182e-02],\n",
              "        [-8.55457067e-01, -1.80163026e-01, -3.59064668e-01,\n",
              "         -5.14411449e-01, -5.45055449e-01, -2.02283286e-03,\n",
              "         -1.66307017e-01, -6.22874200e-01, -4.88273650e-01,\n",
              "         -6.18747234e-01, -6.01029873e-01, -4.02403861e-01],\n",
              "        [ 3.07760239e-02,  1.49105728e-01, -2.17209920e-01,\n",
              "          1.31869137e-01,  1.68677568e-01, -2.59877443e-01,\n",
              "         -2.41574183e-01, -2.20212772e-01, -2.73970842e-01,\n",
              "          3.83364558e-02,  7.11329281e-02, -4.07567829e-01],\n",
              "        [-7.63649940e-02,  3.76286983e-01, -7.86636919e-02,\n",
              "         -4.29323554e-01, -1.62808180e-01, -7.00834766e-02,\n",
              "         -3.54818851e-01, -5.98430693e-01, -4.31655467e-01,\n",
              "         -3.26762319e-01,  2.36452207e-01, -3.19791250e-02],\n",
              "        [ 1.58801377e-02,  8.56359005e-02, -1.72865435e-01,\n",
              "          2.29243159e-01,  3.02850902e-01,  1.46591127e-01,\n",
              "          3.50712717e-01, -1.49247944e-02, -3.45197797e-01,\n",
              "         -2.43707642e-01,  1.16438389e-01, -2.10596964e-01],\n",
              "        [-8.06448013e-02, -4.58439253e-02,  1.38296857e-01,\n",
              "         -6.50834680e-01, -1.91852540e-01,  1.67557657e-01,\n",
              "         -4.09277439e-01, -6.04767084e-01, -9.55308676e-02,\n",
              "         -4.55774307e-01,  9.76901688e-03,  1.27081007e-01],\n",
              "        [-2.73745060e-02,  3.70008588e-01, -3.82949173e-01,\n",
              "          2.53189266e-01,  2.29936838e-02,  1.06893659e-01,\n",
              "         -2.49640241e-01,  1.87687576e-01,  2.29721546e-01,\n",
              "         -7.42020607e-02, -3.87690961e-02,  1.01926088e-01],\n",
              "        [-3.73970211e-01,  6.03319705e-02,  1.02684021e-01,\n",
              "          2.13744819e-01, -1.44957542e-01, -1.57981813e-02,\n",
              "          3.47888112e-01, -1.37788504e-01, -2.55845666e-01,\n",
              "          2.10207164e-01,  2.50423312e-01,  2.08957732e-01],\n",
              "        [ 1.11800075e-01, -1.25978678e-01, -2.99969614e-01,\n",
              "          3.89780939e-01,  3.83634269e-01,  2.60603487e-01,\n",
              "          9.81632471e-02,  2.87635744e-01,  4.06591892e-01,\n",
              "         -3.70247573e-01, -8.43980908e-02, -3.97773415e-01],\n",
              "        [-9.47949290e-02, -3.76280993e-01,  1.89646184e-01,\n",
              "         -2.88249314e-01,  1.48349643e-01, -1.72065198e-02,\n",
              "          3.01820397e-01,  1.10020399e-01, -4.03646171e-01,\n",
              "         -2.02533811e-01,  1.68445587e-01, -3.15003335e-01],\n",
              "        [-1.56542838e-01,  7.53934234e-02,  2.49717664e-02,\n",
              "         -5.85918240e-02, -1.31837681e-01,  1.71679328e-03,\n",
              "         -2.99077094e-01, -4.05763686e-01, -8.22227597e-02,\n",
              "         -4.36814837e-02, -8.27827156e-01, -4.53771085e-01],\n",
              "        [ 2.67934557e-02,  2.26228267e-01,  2.06826672e-01,\n",
              "         -2.29827445e-02, -3.77163440e-01,  3.31949413e-01,\n",
              "         -6.36105716e-01,  1.13006353e-01, -7.80066997e-02,\n",
              "         -2.40935966e-01, -2.59738415e-04,  1.82226654e-02],\n",
              "        [-3.83043170e-01, -3.60177100e-01,  4.24071550e-02,\n",
              "         -3.07497919e-01,  2.21714914e-01, -6.38796985e-02,\n",
              "         -2.62800485e-01, -7.66452551e-02, -2.10333094e-01,\n",
              "          3.68364930e-01,  3.16748321e-01,  3.74658525e-01],\n",
              "        [-6.71991348e-01, -2.79348940e-01, -1.42560765e-01,\n",
              "         -5.12093663e-01, -6.59371078e-01, -2.75099613e-02,\n",
              "         -6.62283778e-01, -8.21826905e-02, -3.81516993e-01,\n",
              "         -6.37311637e-01, -6.37559593e-01, -1.04496527e+00]], dtype=float32),\n",
              " array([ 1.4923679e+00, -3.9752129e-01, -1.4620250e-01, -2.9864538e-01,\n",
              "        -2.5655782e-01, -4.2915203e-02, -3.0852631e-01, -2.8955033e-01,\n",
              "        -2.4132936e-07, -3.0229467e-01, -5.8393409e-05,  1.7545842e+00],\n",
              "       dtype=float32),\n",
              " array([[ 0.7330243 , -0.9604641 ],\n",
              "        [-0.2665923 , -0.15887071],\n",
              "        [ 0.24616441,  0.26204363],\n",
              "        [-0.2298472 , -0.28714117],\n",
              "        [ 0.07778687,  0.05917305],\n",
              "        [-0.04601892, -0.055997  ],\n",
              "        [-0.46586367, -0.13704865],\n",
              "        [-0.29076818, -0.13634817],\n",
              "        [ 0.04826727,  0.04826814],\n",
              "        [ 0.26650432, -0.06573866],\n",
              "        [ 0.38500583,  0.3852248 ],\n",
              "        [ 0.7012621 , -1.3243147 ]], dtype=float32),\n",
              " array([-1.4564687,  1.4564689], dtype=float32)]"
            ]
          },
          "metadata": {},
          "execution_count": 30
        }
      ]
    },
    {
      "cell_type": "markdown",
      "source": [
        "## Save The Neural Network To A JSON File"
      ],
      "metadata": {
        "id": "mHm0cUVHMTvi"
      }
    },
    {
      "cell_type": "code",
      "source": [
        "json_string = model.to_json()"
      ],
      "metadata": {
        "id": "agq_PdP3MTB9"
      },
      "execution_count": 31,
      "outputs": []
    },
    {
      "cell_type": "code",
      "source": [
        "json_string"
      ],
      "metadata": {
        "colab": {
          "base_uri": "https://localhost:8080/",
          "height": 122
        },
        "id": "jDNKHkHxMV9z",
        "outputId": "0b7c9f5c-fdd8-435c-f76b-00f3a1d0388e"
      },
      "execution_count": 32,
      "outputs": [
        {
          "output_type": "execute_result",
          "data": {
            "application/vnd.google.colaboratory.intrinsic+json": {
              "type": "string"
            },
            "text/plain": [
              "'{\"class_name\": \"Sequential\", \"config\": {\"name\": \"sequential_2\", \"layers\": [{\"class_name\": \"InputLayer\", \"config\": {\"batch_input_shape\": [null, 1], \"dtype\": \"float32\", \"sparse\": false, \"ragged\": false, \"name\": \"dense_6_input\"}}, {\"class_name\": \"Dense\", \"config\": {\"name\": \"dense_6\", \"trainable\": true, \"batch_input_shape\": [null, 1], \"dtype\": \"float32\", \"units\": 1, \"activation\": \"relu\", \"use_bias\": true, \"kernel_initializer\": {\"class_name\": \"GlorotUniform\", \"config\": {\"seed\": null}}, \"bias_initializer\": {\"class_name\": \"Zeros\", \"config\": {}}, \"kernel_regularizer\": null, \"bias_regularizer\": null, \"activity_regularizer\": null, \"kernel_constraint\": null, \"bias_constraint\": null}}, {\"class_name\": \"Dense\", \"config\": {\"name\": \"dense_7\", \"trainable\": true, \"dtype\": \"float32\", \"units\": 24, \"activation\": \"relu\", \"use_bias\": true, \"kernel_initializer\": {\"class_name\": \"GlorotUniform\", \"config\": {\"seed\": null}}, \"bias_initializer\": {\"class_name\": \"Zeros\", \"config\": {}}, \"kernel_regularizer\": null, \"bias_regularizer\": null, \"activity_regularizer\": null, \"kernel_constraint\": null, \"bias_constraint\": null}}, {\"class_name\": \"Dense\", \"config\": {\"name\": \"dense_8\", \"trainable\": true, \"dtype\": \"float32\", \"units\": 12, \"activation\": \"relu\", \"use_bias\": true, \"kernel_initializer\": {\"class_name\": \"GlorotUniform\", \"config\": {\"seed\": null}}, \"bias_initializer\": {\"class_name\": \"Zeros\", \"config\": {}}, \"kernel_regularizer\": null, \"bias_regularizer\": null, \"activity_regularizer\": null, \"kernel_constraint\": null, \"bias_constraint\": null}}, {\"class_name\": \"Dense\", \"config\": {\"name\": \"dense_9\", \"trainable\": true, \"dtype\": \"float32\", \"units\": 2, \"activation\": \"softmax\", \"use_bias\": true, \"kernel_initializer\": {\"class_name\": \"GlorotUniform\", \"config\": {\"seed\": null}}, \"bias_initializer\": {\"class_name\": \"Zeros\", \"config\": {}}, \"kernel_regularizer\": null, \"bias_regularizer\": null, \"activity_regularizer\": null, \"kernel_constraint\": null, \"bias_constraint\": null}}]}, \"keras_version\": \"2.7.0\", \"backend\": \"tensorflow\"}'"
            ]
          },
          "metadata": {},
          "execution_count": 32
        }
      ]
    },
    {
      "cell_type": "code",
      "source": [
        "from tensorflow.keras.models import model_from_json\n",
        "model_architecture = model_from_json(json_string)"
      ],
      "metadata": {
        "id": "upYWIY2qMZgJ"
      },
      "execution_count": 33,
      "outputs": []
    },
    {
      "cell_type": "code",
      "source": [
        "model_architecture.summary()"
      ],
      "metadata": {
        "colab": {
          "base_uri": "https://localhost:8080/"
        },
        "id": "HShdxzGKMbjd",
        "outputId": "c5f268b0-b8b7-45d5-e46f-eb04466ce364"
      },
      "execution_count": 34,
      "outputs": [
        {
          "output_type": "stream",
          "name": "stdout",
          "text": [
            "Model: \"sequential_2\"\n",
            "_________________________________________________________________\n",
            " Layer (type)                Output Shape              Param #   \n",
            "=================================================================\n",
            " dense_6 (Dense)             (None, 1)                 2         \n",
            "                                                                 \n",
            " dense_7 (Dense)             (None, 24)                48        \n",
            "                                                                 \n",
            " dense_8 (Dense)             (None, 12)                300       \n",
            "                                                                 \n",
            " dense_9 (Dense)             (None, 2)                 26        \n",
            "                                                                 \n",
            "=================================================================\n",
            "Total params: 376\n",
            "Trainable params: 376\n",
            "Non-trainable params: 0\n",
            "_________________________________________________________________\n"
          ]
        }
      ]
    },
    {
      "cell_type": "markdown",
      "source": [
        "## Only Save The Weights Of The Neural Network"
      ],
      "metadata": {
        "id": "TYFI2OxXMgNi"
      }
    },
    {
      "cell_type": "code",
      "source": [
        "import os.path\n",
        "if os.path.isfile('model_weights.h5') is False:\n",
        "  model.save_weights('model_weights.h5')\n",
        "  print(\"Model Saved!\")"
      ],
      "metadata": {
        "colab": {
          "base_uri": "https://localhost:8080/"
        },
        "id": "uyLzLLrJMdXo",
        "outputId": "2c9e5383-1caa-4b20-d2ca-e5f3b7bc7880"
      },
      "execution_count": 35,
      "outputs": [
        {
          "output_type": "stream",
          "name": "stdout",
          "text": [
            "Model Saved!\n"
          ]
        }
      ]
    },
    {
      "cell_type": "code",
      "source": [
        "model2 = Sequential([\n",
        "      Dense(units=1, input_shape=(1,), activation='relu'),\n",
        "      Dense(units=24, activation='relu'),\n",
        "      Dense(units=12, activation='relu'),\n",
        "      Dense(units=2, activation='softmax')\n",
        "])"
      ],
      "metadata": {
        "id": "T-ky4DwHMjGp"
      },
      "execution_count": 38,
      "outputs": []
    },
    {
      "cell_type": "code",
      "source": [
        "model2.load_weights('model_weights.h5')"
      ],
      "metadata": {
        "id": "ZSeamsMwMnee"
      },
      "execution_count": 39,
      "outputs": []
    },
    {
      "cell_type": "code",
      "source": [
        "model2.get_weights()"
      ],
      "metadata": {
        "colab": {
          "base_uri": "https://localhost:8080/"
        },
        "id": "YWvv4VUzMomb",
        "outputId": "70eb28c6-8cff-4000-ca21-5492bcacd120"
      },
      "execution_count": 41,
      "outputs": [
        {
          "output_type": "execute_result",
          "data": {
            "text/plain": [
              "[array([[0.33936763]], dtype=float32),\n",
              " array([-7.6018977], dtype=float32),\n",
              " array([[ 0.09157257, -0.28969055,  0.09055851, -0.30291414, -0.19957851,\n",
              "         -0.3349602 , -0.18817453,  0.14550884, -0.04606202, -0.29456547,\n",
              "          0.06859418,  0.48644394, -0.43052262, -0.09139524, -0.05509433,\n",
              "         -0.10267084, -0.4407539 , -0.15075791, -0.3072281 , -0.4146091 ,\n",
              "          0.2592575 , -0.21842456, -0.06545714,  0.50452316]],\n",
              "       dtype=float32),\n",
              " array([-1.4239715e+00,  0.0000000e+00, -1.6952542e+00,  0.0000000e+00,\n",
              "        -1.6322057e-03,  0.0000000e+00, -1.6014339e-02, -1.9795085e+00,\n",
              "         0.0000000e+00,  0.0000000e+00, -1.6406070e+00, -4.2243156e+00,\n",
              "         0.0000000e+00, -2.2537760e-02,  0.0000000e+00, -2.3478533e-04,\n",
              "         0.0000000e+00,  0.0000000e+00,  0.0000000e+00,  0.0000000e+00,\n",
              "        -3.0379670e+00, -1.7301674e-03,  0.0000000e+00, -4.4097872e+00],\n",
              "       dtype=float32),\n",
              " array([[-1.01712608e+00,  1.67196110e-01, -4.23338234e-01,\n",
              "         -3.05102974e-01, -3.45156610e-01, -1.34957703e-02,\n",
              "         -1.80551976e-01,  1.97328731e-01, -6.70110464e-01,\n",
              "         -6.78539813e-01, -7.14267313e-01, -6.36185706e-01],\n",
              "        [-1.27416700e-01,  3.92716646e-01,  2.06135809e-02,\n",
              "         -6.57662451e-02,  2.96744466e-01,  9.65480208e-02,\n",
              "         -7.18249977e-02, -1.45363510e-02, -3.27279568e-02,\n",
              "         -7.78898597e-02,  2.22862899e-01, -1.68804184e-01],\n",
              "        [-3.11591834e-01, -1.52360797e-01, -1.51342839e-01,\n",
              "         -1.24531917e-01, -2.68758964e-02, -3.03144574e-01,\n",
              "         -3.68780673e-01, -2.16642488e-02, -6.32417917e-01,\n",
              "          8.74464363e-02, -5.61774552e-01, -2.95599341e-01],\n",
              "        [ 2.27794826e-01, -3.91384214e-01,  1.03777885e-01,\n",
              "          1.66801631e-01, -9.20094252e-02,  2.24122465e-01,\n",
              "          6.02224767e-02,  1.30307674e-02,  2.75242925e-02,\n",
              "          4.67547774e-02,  7.19271004e-02, -2.67763644e-01],\n",
              "        [ 6.14719503e-02,  1.68574661e-01, -4.35021430e-01,\n",
              "         -6.27698898e-01, -1.39001817e-01,  1.47560745e-01,\n",
              "         -6.75368547e-01, -3.32140654e-01, -1.30781963e-01,\n",
              "         -3.52670550e-01, -2.90367961e-01,  1.65180400e-01],\n",
              "        [-1.23529434e-02, -3.41250509e-01,  1.45228326e-01,\n",
              "         -3.52616966e-01,  2.07719207e-03, -5.17904758e-03,\n",
              "         -2.01704338e-01,  2.90634036e-01,  1.70597851e-01,\n",
              "          5.68081141e-02, -1.91947192e-01, -1.33516908e-01],\n",
              "        [ 1.05107859e-01,  1.48069607e-02, -3.55392784e-01,\n",
              "         -2.68660277e-01,  1.28658161e-01, -2.08609238e-01,\n",
              "          3.74909282e-01,  4.67442274e-02, -3.67408425e-01,\n",
              "         -3.09018463e-01, -1.83241218e-01, -5.20918518e-02],\n",
              "        [-5.11472762e-01,  3.57801437e-01, -2.57736474e-01,\n",
              "         -2.29495525e-01, -5.71854770e-01,  1.71810254e-01,\n",
              "         -8.86355154e-03,  5.01968488e-02, -2.52779186e-01,\n",
              "         -3.99232060e-01, -4.59464848e-01, -5.14995992e-01],\n",
              "        [-4.29015160e-02, -2.87313461e-02,  1.22949481e-01,\n",
              "          4.02740479e-01,  1.43458784e-01,  3.73467684e-01,\n",
              "          1.93111598e-02, -3.86116028e-01, -2.80245543e-01,\n",
              "          4.19043303e-02, -8.67117345e-02,  3.15535724e-01],\n",
              "        [-3.74773592e-01,  3.66847396e-01, -1.30401731e-01,\n",
              "         -2.35718086e-01, -6.19921982e-02, -6.46900237e-02,\n",
              "         -1.69135511e-01,  9.99893546e-02, -1.82228684e-02,\n",
              "         -2.63447285e-01,  1.17268741e-01, -3.47654998e-01],\n",
              "        [-1.79444835e-01, -1.30262405e-01, -1.81197282e-02,\n",
              "         -1.60639346e-01, -2.12220863e-01, -1.23163082e-01,\n",
              "         -2.54385322e-01, -1.93349048e-01,  2.56377071e-01,\n",
              "          1.67952962e-02,  4.36962217e-01,  9.94468182e-02],\n",
              "        [-8.55457067e-01, -1.80163026e-01, -3.59064668e-01,\n",
              "         -5.14411449e-01, -5.45055449e-01, -2.02283286e-03,\n",
              "         -1.66307017e-01, -6.22874200e-01, -4.88273650e-01,\n",
              "         -6.18747234e-01, -6.01029873e-01, -4.02403861e-01],\n",
              "        [ 3.07760239e-02,  1.49105728e-01, -2.17209920e-01,\n",
              "          1.31869137e-01,  1.68677568e-01, -2.59877443e-01,\n",
              "         -2.41574183e-01, -2.20212772e-01, -2.73970842e-01,\n",
              "          3.83364558e-02,  7.11329281e-02, -4.07567829e-01],\n",
              "        [-7.63649940e-02,  3.76286983e-01, -7.86636919e-02,\n",
              "         -4.29323554e-01, -1.62808180e-01, -7.00834766e-02,\n",
              "         -3.54818851e-01, -5.98430693e-01, -4.31655467e-01,\n",
              "         -3.26762319e-01,  2.36452207e-01, -3.19791250e-02],\n",
              "        [ 1.58801377e-02,  8.56359005e-02, -1.72865435e-01,\n",
              "          2.29243159e-01,  3.02850902e-01,  1.46591127e-01,\n",
              "          3.50712717e-01, -1.49247944e-02, -3.45197797e-01,\n",
              "         -2.43707642e-01,  1.16438389e-01, -2.10596964e-01],\n",
              "        [-8.06448013e-02, -4.58439253e-02,  1.38296857e-01,\n",
              "         -6.50834680e-01, -1.91852540e-01,  1.67557657e-01,\n",
              "         -4.09277439e-01, -6.04767084e-01, -9.55308676e-02,\n",
              "         -4.55774307e-01,  9.76901688e-03,  1.27081007e-01],\n",
              "        [-2.73745060e-02,  3.70008588e-01, -3.82949173e-01,\n",
              "          2.53189266e-01,  2.29936838e-02,  1.06893659e-01,\n",
              "         -2.49640241e-01,  1.87687576e-01,  2.29721546e-01,\n",
              "         -7.42020607e-02, -3.87690961e-02,  1.01926088e-01],\n",
              "        [-3.73970211e-01,  6.03319705e-02,  1.02684021e-01,\n",
              "          2.13744819e-01, -1.44957542e-01, -1.57981813e-02,\n",
              "          3.47888112e-01, -1.37788504e-01, -2.55845666e-01,\n",
              "          2.10207164e-01,  2.50423312e-01,  2.08957732e-01],\n",
              "        [ 1.11800075e-01, -1.25978678e-01, -2.99969614e-01,\n",
              "          3.89780939e-01,  3.83634269e-01,  2.60603487e-01,\n",
              "          9.81632471e-02,  2.87635744e-01,  4.06591892e-01,\n",
              "         -3.70247573e-01, -8.43980908e-02, -3.97773415e-01],\n",
              "        [-9.47949290e-02, -3.76280993e-01,  1.89646184e-01,\n",
              "         -2.88249314e-01,  1.48349643e-01, -1.72065198e-02,\n",
              "          3.01820397e-01,  1.10020399e-01, -4.03646171e-01,\n",
              "         -2.02533811e-01,  1.68445587e-01, -3.15003335e-01],\n",
              "        [-1.56542838e-01,  7.53934234e-02,  2.49717664e-02,\n",
              "         -5.85918240e-02, -1.31837681e-01,  1.71679328e-03,\n",
              "         -2.99077094e-01, -4.05763686e-01, -8.22227597e-02,\n",
              "         -4.36814837e-02, -8.27827156e-01, -4.53771085e-01],\n",
              "        [ 2.67934557e-02,  2.26228267e-01,  2.06826672e-01,\n",
              "         -2.29827445e-02, -3.77163440e-01,  3.31949413e-01,\n",
              "         -6.36105716e-01,  1.13006353e-01, -7.80066997e-02,\n",
              "         -2.40935966e-01, -2.59738415e-04,  1.82226654e-02],\n",
              "        [-3.83043170e-01, -3.60177100e-01,  4.24071550e-02,\n",
              "         -3.07497919e-01,  2.21714914e-01, -6.38796985e-02,\n",
              "         -2.62800485e-01, -7.66452551e-02, -2.10333094e-01,\n",
              "          3.68364930e-01,  3.16748321e-01,  3.74658525e-01],\n",
              "        [-6.71991348e-01, -2.79348940e-01, -1.42560765e-01,\n",
              "         -5.12093663e-01, -6.59371078e-01, -2.75099613e-02,\n",
              "         -6.62283778e-01, -8.21826905e-02, -3.81516993e-01,\n",
              "         -6.37311637e-01, -6.37559593e-01, -1.04496527e+00]], dtype=float32),\n",
              " array([ 1.4923679e+00, -3.9752129e-01, -1.4620250e-01, -2.9864538e-01,\n",
              "        -2.5655782e-01, -4.2915203e-02, -3.0852631e-01, -2.8955033e-01,\n",
              "        -2.4132936e-07, -3.0229467e-01, -5.8393409e-05,  1.7545842e+00],\n",
              "       dtype=float32),\n",
              " array([[ 0.7330243 , -0.9604641 ],\n",
              "        [-0.2665923 , -0.15887071],\n",
              "        [ 0.24616441,  0.26204363],\n",
              "        [-0.2298472 , -0.28714117],\n",
              "        [ 0.07778687,  0.05917305],\n",
              "        [-0.04601892, -0.055997  ],\n",
              "        [-0.46586367, -0.13704865],\n",
              "        [-0.29076818, -0.13634817],\n",
              "        [ 0.04826727,  0.04826814],\n",
              "        [ 0.26650432, -0.06573866],\n",
              "        [ 0.38500583,  0.3852248 ],\n",
              "        [ 0.7012621 , -1.3243147 ]], dtype=float32),\n",
              " array([-1.4564687,  1.4564689], dtype=float32)]"
            ]
          },
          "metadata": {},
          "execution_count": 41
        }
      ]
    },
    {
      "cell_type": "code",
      "source": [
        ""
      ],
      "metadata": {
        "id": "4ayjijgRMxpt"
      },
      "execution_count": null,
      "outputs": []
    }
  ]
}